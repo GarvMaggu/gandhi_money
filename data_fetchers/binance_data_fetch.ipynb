{
 "cells": [
  {
   "cell_type": "code",
   "execution_count": 1,
   "metadata": {},
   "outputs": [
    {
     "name": "stdout",
     "output_type": "stream",
     "text": [
      "---> Found overall tickers: 2214\n",
      "---> Filter to asked tickers: 1\n",
      "------> Tickers left: 1\n",
      "Download full data for 1 tickers: \n",
      "---> Data Frequency: 1h\n",
      "---> Start Date: 20170101\n",
      "---> End Date: 20230511\n"
     ]
    },
    {
     "data": {
      "application/vnd.jupyter.widget-view+json": {
       "model_id": "3bf9ed039e6e402a87f9b4e22fe7948e",
       "version_major": 2,
       "version_minor": 0
      },
      "text/plain": [
       "Tickers:   0%|          | 0/1 [00:00<?, ?it/s]"
      ]
     },
     "metadata": {},
     "output_type": "display_data"
    },
    {
     "data": {
      "application/vnd.jupyter.widget-view+json": {
       "model_id": "fd938f6da95249cbbd49ee39c526a6b2",
       "version_major": 2,
       "version_minor": 0
      },
      "text/plain": [
       "monthly files to download: 0files [00:00, ?files/s]"
      ]
     },
     "metadata": {},
     "output_type": "display_data"
    },
    {
     "data": {
      "application/vnd.jupyter.widget-view+json": {
       "model_id": "fe1225ad71bf480893c0b85ac2e036ab",
       "version_major": 2,
       "version_minor": 0
      },
      "text/plain": [
       "daily files to download: 0files [00:00, ?files/s]"
      ]
     },
     "metadata": {},
     "output_type": "display_data"
    },
    {
     "name": "stdout",
     "output_type": "stream",
     "text": [
      "Tried to dump data for 1 tickers:\n",
      "---> For SOLUSDT new data saved for: 0 months 0 days\n"
     ]
    }
   ],
   "source": [
    "# %pip install binance_historical_data\n",
    "# %pip install python-dateutil\n",
    "\n",
    "from datetime import datetime\n",
    "from dateutil.relativedelta import relativedelta\n",
    "import pandas as pd\n",
    "from binance_historical_data import BinanceDataDumper\n",
    "\n",
    "\n",
    "# from datetime import datetime\n",
    "\n",
    "data_dumper = BinanceDataDumper(\n",
    "    path_dir_where_to_dump=\"../binanceData\",\n",
    "    asset_class=\"spot\",  # spot, um, cm\n",
    "    data_type=\"klines\",  # aggTrades, klines, trades\n",
    "    data_frequency=\"1h\",\n",
    ")\n",
    "\n",
    "\n",
    "data_dumper.dump_data(\n",
    "    date_start=None,\n",
    "    date_end=None,\n",
    "    is_to_update_existing=False,\n",
    "    tickers=[\"ETHUSDT\", \"XRPUSDT\", \"LTCUSDT\", \"ADAUSDT\", \"BTCUSDT\", \"BNBUSDT\"],\n",
    ")\n"
   ]
  },
  {
   "cell_type": "code",
   "execution_count": null,
   "metadata": {},
   "outputs": [],
   "source": [
    "start_date = \"2021-03\"\n",
    "end_date = \"2023-03\"\n",
    "\n",
    "start_date_dt = datetime.strptime(start_date, \"%Y-%m\")\n",
    "end_date_dt = datetime.strptime(end_date, \"%Y-%m\")\n",
    "\n",
    "current_date = start_date_dt\n",
    "all_filenames = []\n",
    "while current_date <= end_date_dt:\n",
    "    print(current_date.strftime(\"%Y-%m\"))\n",
    "    all_filenames.append(current_date.strftime(\"%Y-%m\") + \".csv\")\n",
    "    current_date += relativedelta(months=1)\n",
    "\n",
    "# df = pd.read_csv('binanceData/spot/monthly/klines/ETHUSDT/5m')\n",
    "column_names = ['open_time','open','high','low','close','volume','close_time','quote_volume','count','taker_buy_volume','taker_buy_quote_volume','ignore']\n",
    "combined_data = pd.DataFrame(columns=column_names)\n",
    "\n",
    "#read all the csv files in loop and save it as one csv file, also set column names as set columns name as open_time\topen\thigh\tlow\tclose\tvolume\tclose_time\tquote_volume\tcount\ttaker_buy_volume\ttaker_buy_quote_volume\tignore before combining all the csv files\n",
    "# combined_csv = pd.concat([pd.read_csv(f) for f in all_filenames ])\n",
    "\n",
    "for file_name in all_filenames:\n",
    "    df = pd.read_csv('binanceData/spot/monthly/klines/ETHUSDT/5m/ETHUSDT-5m-' + file_name, header=None, names=column_names)\n",
    "    # combined_data = combined_data.c(df, ignore_index=True)\n",
    "    combined_data = pd.concat([combined_data, df], ignore_index=True)\n",
    "\n",
    "\n",
    "# now \n",
    "# df.columns = ['open_time','open','high','low','close','volume','close_time','quote_volume','count','taker_buy_volume','taker_buy_quote_volume','ignore']\n",
    "# export to csv\n",
    "df.to_csv( \"combined_csv.csv\", index=False, encoding='utf-8-sig')\n",
    "\n",
    "# print(df.dtypes)\n",
    "# print(df.head())\n",
    "\n",
    "# df[\"Date\"] = pd.to_datetime(df[\"Date\"])\n",
    "# df.set_index(\"Date\", inplace=True)\n",
    "\n",
    "# print(df.dtypes)\n",
    "# print(df.head())"
   ]
  }
 ],
 "metadata": {
  "kernelspec": {
   "display_name": "tensorflow",
   "language": "python",
   "name": "tensorflow"
  },
  "language_info": {
   "codemirror_mode": {
    "name": "ipython",
    "version": 3
   },
   "file_extension": ".py",
   "mimetype": "text/x-python",
   "name": "python",
   "nbconvert_exporter": "python",
   "pygments_lexer": "ipython3",
   "version": "3.10.10"
  },
  "orig_nbformat": 4
 },
 "nbformat": 4,
 "nbformat_minor": 2
}
